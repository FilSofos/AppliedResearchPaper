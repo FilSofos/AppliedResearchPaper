{
 "cells": [
  {
   "cell_type": "markdown",
   "id": "5b8d88d5",
   "metadata": {},
   "source": [
    "## Jupyter - LAMMPS notebook\n",
    "### _simulation and post-processing_\n"
   ]
  },
  {
   "cell_type": "code",
   "execution_count": null,
   "id": "cb19c111-47e5-4f06-a4b2-e27a7eb37199",
   "metadata": {
    "tags": []
   },
   "outputs": [],
   "source": [
    "from lammps import IPyLammps\n",
    "import numpy as np"
   ]
  },
  {
   "cell_type": "code",
   "execution_count": null,
   "id": "fc09cf4c-b709-4325-b7dc-d0a8771d8bd3",
   "metadata": {
    "tags": []
   },
   "outputs": [],
   "source": [
    "# Initialize LAMMPS\n",
    "lmp = IPyLammps()\n",
    "\n",
    "# Set up the simulation box\n",
    "x = 10\n",
    "y = 10\n",
    "z = 10\n",
    "rho = 0.5\n",
    "ps = 0.168\n",
    "t = 1.8071\n",
    "rc = 3.5\n",
    "p = 200\n",
    "lmp.variable(\"s\",\"equal\", 10)\n",
    "d = p * \"$s\"\n",
    "\n",
    "lmp.units(\"lj\")\n",
    "lmp.atom_style(\"atomic\")\n",
    "\n",
    "lmp.lattice(\"fcc\", rho)\n",
    "lmp.region(\"box\", \"block\", 0, x, 0, y, 0, z)\n",
    "lmp.create_box(1, \"box\")\n",
    "lmp.create_atoms(1, \"box\")\n",
    "lmp.mass(1, 1.0)\n",
    "\n",
    "lmp.compute(\"thermo_t\", \"all temp\")\n",
    "lmp.compute(\"1\", \"all pressure thermo_t\")\n",
    "\n",
    "lmp.velocity(\"all create\", f\"{t} 87287\")\n",
    "\n",
    "lmp.pair_style(\"lj/cut\", rc)\n",
    "lmp.pair_coeff(1, 1, 1.0, 1.0)\n",
    "\n",
    "lmp.neighbor(0.3, \"bin\")\n",
    "lmp.neigh_modify(\"delay\", 0, \"every\", 1)\n",
    "\n",
    "# 1st NVT run\n",
    "lmp.fix(\"1\", \"all npt\", f\"temp {t} {t} 100.0 iso {ps} {ps} 100.0\")\n",
    "\n",
    "lmp.thermo(1000)\n",
    "lmp.thermo_style(\"custom\", \"step temp press\")\n",
    "lmp.run(10000)\n",
    "\n",
    "lmp.velocity(\"all scale\", t)\n",
    "\n",
    "# Thermal conductivity calculation\n",
    "lmp.reset_timestep(0)\n",
    "\n",
    "lmp.compute(\"myKE\", \"all ke/atom\")\n",
    "lmp.compute(\"myPE\", \"all pe/atom\")\n",
    "lmp.compute(\"myStress\", \"all stress/atom NULL virial\")\n",
    "lmp.compute(\"flux\", \"all heat/flux myKE myPE myStress\")\n",
    "lmp.variable(\"Jx\", \"equal c_flux[1]/vol\")\n",
    "lmp.variable(\"Jy\", \"equal c_flux[2]/vol\")\n",
    "lmp.variable(\"Jz\", \"equal c_flux[3]/vol\")\n",
    "\n",
    "# For thermal conductivity\n",
    "lmp.fix(\"JJ\", \"all ave/correlate\", \"10 200 2000\", \"c_flux[1] c_flux[2] c_flux[3] type auto\", \"file JJ_TC.dat ave running\")\n",
    "\n",
    "lmp.variable(\"scale\", \"equal $(10*dt)/1.8071/1.8071/vol\")\n",
    "lmp.variable(\"k11\", \"equal trap(f_JJ[3])*${scale}\")\n",
    "lmp.variable(\"k22\", \"equal trap(f_JJ[4])*${scale}\")\n",
    "lmp.variable(\"k33\", \"equal trap(f_JJ[5])*${scale}\")\n",
    "\n",
    "# For GK- viscosity\n",
    "lmp.variable(\"pxy\", \"equal pxy\")\n",
    "lmp.variable(\"pxz\", \"equal pxz\")\n",
    "lmp.variable(\"pyz\", \"equal pyz\")\n",
    "\n",
    "lmp.fix(\"SS\", \"all ave/correlate\", \"10 200 2000\", \"v_pxy v_pxz v_pyz type auto file SS_visc.dat ave running\")\n",
    "\n",
    "lmp.compute(\"myRDF\", \"all rdf 100\")\n",
    "lmp.fix(\"rdf1\", \"all ave/time\", \"1 1000 1000\", \"c_myRDF[*] file rdf.txt mode vector\")\n",
    "\n",
    "lmp.variable(\"vscale\", \"equal  $(10*dt)*(10*10*10)/1.8071\")\n",
    "lmp.variable(\"v11\", \"equal trap(f_SS[3])*${vscale}\")\n",
    "lmp.variable(\"v22\", \"equal trap(f_SS[4])*${vscale}\")\n",
    "lmp.variable(\"v33\", \"equal trap(f_SS[5])*${vscale}\")\n",
    "\n",
    "lmp.thermo(2000)\n",
    "lmp.thermo_style(\"custom\", \"step temp press v_k11 v_k22 v_k33 v_v11 v_v22 v_v33\")\n",
    "\n",
    "lmp.run(10000)\n",
    "\n",
    "lmp.variable(\"kappa\", \"equal 1000*0.187972*(v_k11+v_k22+v_k33)/3.0\")\n",
    "                            \n",
    "\n",
    "\n",
    "# eta from LJ to Pas\n",
    "# eta = (eta_star) * sqrt(m * å)/ó^2  LJ units\n",
    "# for Argon:\n",
    "# multiply by 9.07*10-5 Pa*s\n",
    "# multiply by 907 ugr/cm*s\n",
    "\n",
    "lmp.variable(\"v\", \"equal 907*(v_v11+v_v22+v_v33)/3.0\")\n"
   ]
  },
  {
   "cell_type": "code",
   "execution_count": null,
   "id": "6b2cd2e6-5258-40fe-a66f-f1ccb4450c29",
   "metadata": {
    "tags": []
   },
   "outputs": [],
   "source": [
    "lmp.print(\"Running_average_conductivity:\" \"${kappa}\")"
   ]
  },
  {
   "cell_type": "code",
   "execution_count": null,
   "id": "405763be-5bae-4c10-93a4-c55319f8f9fc",
   "metadata": {
    "tags": []
   },
   "outputs": [],
   "source": [
    "lmp.print(\"average_viscosity:\" \"${v}\")"
   ]
  }
 ],
 "metadata": {
  "kernelspec": {
   "display_name": "Python 3 (ipykernel)",
   "language": "python",
   "name": "python3"
  },
  "language_info": {
   "codemirror_mode": {
    "name": "ipython",
    "version": 3
   },
   "file_extension": ".py",
   "mimetype": "text/x-python",
   "name": "python",
   "nbconvert_exporter": "python",
   "pygments_lexer": "ipython3",
   "version": "3.9.18"
  }
 },
 "nbformat": 4,
 "nbformat_minor": 5
}
